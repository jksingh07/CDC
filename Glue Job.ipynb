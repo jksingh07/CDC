{
 "cells": [
  {
   "cell_type": "code",
   "execution_count": 2,
   "id": "fc5af0dd",
   "metadata": {},
   "outputs": [
    {
     "name": "stdout",
     "output_type": "stream",
     "text": [
      "Collecting pyspark\n",
      "  Downloading pyspark-3.3.2.tar.gz (281.4 MB)\n",
      "\u001b[K     |███████████████████████████████ | 272.9 MB 35.5 MB/s eta 0:00:01"
     ]
    },
    {
     "name": "stderr",
     "output_type": "stream",
     "text": [
      "IOPub data rate exceeded.\n",
      "The notebook server will temporarily stop sending output\n",
      "to the client in order to avoid crashing it.\n",
      "To change this limit, set the config variable\n",
      "`--NotebookApp.iopub_data_rate_limit`.\n",
      "\n",
      "Current values:\n",
      "NotebookApp.iopub_data_rate_limit=1000000.0 (bytes/sec)\n",
      "NotebookApp.rate_limit_window=3.0 (secs)\n",
      "\n"
     ]
    },
    {
     "name": "stdout",
     "output_type": "stream",
     "text": [
      "\u001b[?25hCollecting py4j==0.10.9.5\n",
      "  Downloading py4j-0.10.9.5-py2.py3-none-any.whl (199 kB)\n",
      "\u001b[K     |████████████████████████████████| 199 kB 126.6 MB/s eta 0:00:01\n",
      "\u001b[?25hBuilding wheels for collected packages: pyspark\n",
      "  Building wheel for pyspark (setup.py) ... \u001b[?25ldone\n",
      "\u001b[?25h  Created wheel for pyspark: filename=pyspark-3.3.2-py2.py3-none-any.whl size=281824024 sha256=97f3dcd63f2924fe6d3e57cc7e5d71e1498ece4572e3873a0e7c77b4ed02e694\n",
      "  Stored in directory: /Users/jaskaransingh/Library/Caches/pip/wheels/6c/e3/9b/0525ce8a69478916513509d43693511463c6468db0de237c86\n",
      "Successfully built pyspark\n",
      "Installing collected packages: py4j, pyspark\n",
      "Successfully installed py4j-0.10.9.5 pyspark-3.3.2\n"
     ]
    }
   ],
   "source": [
    "!pip install pyspark\n"
   ]
  },
  {
   "cell_type": "code",
   "execution_count": 8,
   "id": "e4cbbba0",
   "metadata": {},
   "outputs": [],
   "source": [
    "from pyspark.sql.functions import when\n",
    "from pyspark.sql import SparkSession"
   ]
  },
  {
   "cell_type": "code",
   "execution_count": 11,
   "id": "4fd47b41",
   "metadata": {},
   "outputs": [
    {
     "name": "stderr",
     "output_type": "stream",
     "text": [
      "Setting default log level to \"WARN\".\n",
      "To adjust logging level use sc.setLogLevel(newLevel). For SparkR, use setLogLevel(newLevel).\n"
     ]
    },
    {
     "name": "stdout",
     "output_type": "stream",
     "text": [
      "23/03/15 19:04:19 WARN NativeCodeLoader: Unable to load native-hadoop library for your platform... using builtin-java classes where applicable\n"
     ]
    }
   ],
   "source": [
    "spark = SparkSession.builder.appName('CDC').getOrCreate()"
   ]
  },
  {
   "cell_type": "code",
   "execution_count": 12,
   "id": "392292b4",
   "metadata": {},
   "outputs": [
    {
     "data": {
      "text/html": [
       "\n",
       "            <div>\n",
       "                <p><b>SparkSession - in-memory</b></p>\n",
       "                \n",
       "        <div>\n",
       "            <p><b>SparkContext</b></p>\n",
       "\n",
       "            <p><a href=\"http://jaskarans-air:4040\">Spark UI</a></p>\n",
       "\n",
       "            <dl>\n",
       "              <dt>Version</dt>\n",
       "                <dd><code>v3.3.2</code></dd>\n",
       "              <dt>Master</dt>\n",
       "                <dd><code>local[*]</code></dd>\n",
       "              <dt>AppName</dt>\n",
       "                <dd><code>CDC</code></dd>\n",
       "            </dl>\n",
       "        </div>\n",
       "        \n",
       "            </div>\n",
       "        "
      ],
      "text/plain": [
       "<pyspark.sql.session.SparkSession at 0x7f8ca9b2ea60>"
      ]
     },
     "execution_count": 12,
     "metadata": {},
     "output_type": "execute_result"
    }
   ],
   "source": [
    "spark"
   ]
  },
  {
   "cell_type": "code",
   "execution_count": 17,
   "id": "10f11436",
   "metadata": {},
   "outputs": [
    {
     "data": {
      "text/plain": [
       "'/Users/jaskaransingh/Desktop/Project/CDC'"
      ]
     },
     "execution_count": 17,
     "metadata": {},
     "output_type": "execute_result"
    }
   ],
   "source": [
    "import os\n",
    "os.getcwd()"
   ]
  },
  {
   "cell_type": "code",
   "execution_count": 18,
   "id": "7ae14351",
   "metadata": {},
   "outputs": [
    {
     "name": "stdout",
     "output_type": "stream",
     "text": [
      "20230315-223617880.csv Glue Job.ipynb         \u001b[34mScreenshots\u001b[m\u001b[m\r\n",
      "20230315-224015065.csv LOAD00000001.csv\r\n"
     ]
    }
   ],
   "source": [
    "!ls"
   ]
  },
  {
   "cell_type": "code",
   "execution_count": 88,
   "id": "e86433dd",
   "metadata": {},
   "outputs": [],
   "source": [
    "full_load_df = spark.read.csv(\"LOAD00000001.csv\")"
   ]
  },
  {
   "cell_type": "code",
   "execution_count": 35,
   "id": "1eb3cd61",
   "metadata": {},
   "outputs": [
    {
     "data": {
      "text/plain": [
       "DataFrame[_c0: string, _c1: string, _c2: string]"
      ]
     },
     "metadata": {},
     "output_type": "display_data"
    }
   ],
   "source": [
    "display(full_load_df)"
   ]
  },
  {
   "cell_type": "code",
   "execution_count": 71,
   "id": "c8997352",
   "metadata": {},
   "outputs": [
    {
     "data": {
      "text/plain": [
       "101"
      ]
     },
     "execution_count": 71,
     "metadata": {},
     "output_type": "execute_result"
    }
   ],
   "source": [
    "full_load_df.count()"
   ]
  },
  {
   "cell_type": "code",
   "execution_count": 39,
   "id": "3a5b65fc",
   "metadata": {},
   "outputs": [
    {
     "data": {
      "text/plain": [
       "['_c0', '_c1', '_c2']"
      ]
     },
     "execution_count": 39,
     "metadata": {},
     "output_type": "execute_result"
    }
   ],
   "source": [
    "full_load_df.columns"
   ]
  },
  {
   "cell_type": "code",
   "execution_count": 89,
   "id": "bc26da72",
   "metadata": {},
   "outputs": [],
   "source": [
    "full_load_df = full_load_df.withColumnRenamed('_c0','id').withColumnRenamed('_c1','FullName').withColumnRenamed('_c2','City')"
   ]
  },
  {
   "cell_type": "code",
   "execution_count": 73,
   "id": "99604ee8",
   "metadata": {},
   "outputs": [
    {
     "data": {
      "text/plain": [
       "['id', 'FullName', 'City']"
      ]
     },
     "execution_count": 73,
     "metadata": {},
     "output_type": "execute_result"
    }
   ],
   "source": [
    "full_load_df.columns"
   ]
  },
  {
   "cell_type": "code",
   "execution_count": 90,
   "id": "6f973bf8",
   "metadata": {},
   "outputs": [],
   "source": [
    "full_load_df.write.mode('overwrite').csv('./finalOutput/finalFile.csv')"
   ]
  },
  {
   "cell_type": "code",
   "execution_count": null,
   "id": "42235dea",
   "metadata": {},
   "outputs": [],
   "source": []
  },
  {
   "cell_type": "code",
   "execution_count": 91,
   "id": "7e25e4db",
   "metadata": {},
   "outputs": [],
   "source": [
    "# UPDATE DATAFRAME (UDF)\n",
    "\n",
    "udf = spark.read.csv('20230315-223617880.csv')"
   ]
  },
  {
   "cell_type": "code",
   "execution_count": 92,
   "id": "bf092b3d",
   "metadata": {},
   "outputs": [
    {
     "data": {
      "text/plain": [
       "DataFrame[_c0: string, _c1: string, _c2: string, _c3: string]"
      ]
     },
     "metadata": {},
     "output_type": "display_data"
    }
   ],
   "source": [
    "display(udf)"
   ]
  },
  {
   "cell_type": "code",
   "execution_count": 52,
   "id": "ce8c3f0e",
   "metadata": {},
   "outputs": [
    {
     "data": {
      "text/plain": [
       "6"
      ]
     },
     "execution_count": 52,
     "metadata": {},
     "output_type": "execute_result"
    }
   ],
   "source": [
    "udf.count()"
   ]
  },
  {
   "cell_type": "code",
   "execution_count": 93,
   "id": "e54e6420",
   "metadata": {},
   "outputs": [],
   "source": [
    "udf = udf.withColumnRenamed('_c0','action').withColumnRenamed('_c1','id').withColumnRenamed('_c2','FullName').withColumnRenamed('_c3','City')"
   ]
  },
  {
   "cell_type": "code",
   "execution_count": 94,
   "id": "0c9c4ab9",
   "metadata": {},
   "outputs": [
    {
     "data": {
      "text/plain": [
       "DataFrame[action: string, id: string, FullName: string, City: string]"
      ]
     },
     "metadata": {},
     "output_type": "display_data"
    }
   ],
   "source": [
    "udf = udf.withColumnRenamed('status','action')\n",
    "display(udf)"
   ]
  },
  {
   "cell_type": "code",
   "execution_count": 95,
   "id": "cc4c179f",
   "metadata": {},
   "outputs": [],
   "source": [
    "final_df = spark.read.csv('./finalOutput/finalFile.csv')"
   ]
  },
  {
   "cell_type": "code",
   "execution_count": 96,
   "id": "804bd9df",
   "metadata": {},
   "outputs": [
    {
     "data": {
      "text/plain": [
       "['_c0', '_c1', '_c2']"
      ]
     },
     "execution_count": 96,
     "metadata": {},
     "output_type": "execute_result"
    }
   ],
   "source": [
    "final_df.columns"
   ]
  },
  {
   "cell_type": "code",
   "execution_count": 97,
   "id": "73ffd7be",
   "metadata": {},
   "outputs": [],
   "source": [
    "final_df = final_df.withColumnRenamed('_c0','id').withColumnRenamed('_c1','FullName').withColumnRenamed('_c2','City')"
   ]
  },
  {
   "cell_type": "code",
   "execution_count": 98,
   "id": "635ef4cd",
   "metadata": {},
   "outputs": [
    {
     "data": {
      "text/plain": [
       "[Row(action='U', id='7', FullName='ABC XYZ', City='Phoenix'),\n",
       " Row(action='I', id='130', FullName='Alica Bing', City='New York'),\n",
       " Row(action='I', id='131', FullName='Malinda Bing', City='Detroit'),\n",
       " Row(action='I', id='132', FullName='Chandler Bing', City='Portland'),\n",
       " Row(action='U', id='8', FullName='ABC XYZ', City='Denver'),\n",
       " Row(action='D', id='10', FullName='Jack Hicks', City='Houston')]"
      ]
     },
     "execution_count": 98,
     "metadata": {},
     "output_type": "execute_result"
    }
   ],
   "source": [
    "udf.collect()"
   ]
  },
  {
   "cell_type": "code",
   "execution_count": 99,
   "id": "f85caf3d",
   "metadata": {},
   "outputs": [
    {
     "name": "stdout",
     "output_type": "stream",
     "text": [
      "['U', '7', 'ABC XYZ', 'Phoenix']\n",
      "['I', '130', 'Alica Bing', 'New York']\n",
      "['I', '131', 'Malinda Bing', 'Detroit']\n",
      "['I', '132', 'Chandler Bing', 'Portland']\n",
      "['U', '8', 'ABC XYZ', 'Denver']\n",
      "['D', '10', 'Jack Hicks', 'Houston']\n"
     ]
    }
   ],
   "source": [
    "for row in udf.collect():\n",
    "    print(list(row))"
   ]
  },
  {
   "cell_type": "code",
   "execution_count": 100,
   "id": "0ee57d16",
   "metadata": {},
   "outputs": [],
   "source": [
    "for row in udf.collect():\n",
    "    \n",
    "    if row['action'] == 'U':\n",
    "        final_df = final_df.withColumn('FullName', when(final_df['id'] == row['id'], row['FullName']).otherwise(final_df['FullName']))\n",
    "        final_df = final_df.withColumn('City', when(final_df['id'] == row['id'], row['City']).otherwise(final_df['City']))\n",
    "    \n",
    "    if row['action'] == 'I':\n",
    "        insertedRow = [list(row)[1:]]\n",
    "        columns = ['id', 'FullName', 'City']\n",
    "        new_df = spark.createDataFrame(insertedRow, columns)\n",
    "        final_df = final_df.union(new_df)\n",
    "    \n",
    "    if row['action'] == 'D':\n",
    "        final_df = final_df.filter(final_df.id != row['id'])\n",
    "    "
   ]
  },
  {
   "cell_type": "code",
   "execution_count": 101,
   "id": "2db713b0",
   "metadata": {},
   "outputs": [
    {
     "name": "stdout",
     "output_type": "stream",
     "text": [
      "['0', 'Herman Zimmerman', 'Oklahoma City']\n",
      "['1', 'Lisa Ray', 'Columbus']\n",
      "['2', 'Terrell Reeves', 'Jacksonville']\n",
      "['3', 'Steve Goodwin', 'Charlotte']\n",
      "['4', 'Leah Tran', 'Detroit']\n",
      "['5', 'Wilbert Holmes', 'Washington']\n",
      "['6', 'Mindy George', 'Los Angeles']\n",
      "['7', 'ABC XYZ', 'Phoenix']\n",
      "['8', 'ABC XYZ', 'Denver']\n",
      "['9', 'Darla Hayes', 'Charlotte']\n",
      "['11', 'Francis Davidson', 'Austin']\n",
      "['12', 'Jerome Padilla', 'San Francisco']\n",
      "['13', 'Mamie Duncan', 'Houston']\n",
      "['14', 'Julia Cain', 'San Jose']\n",
      "['15', 'Leslie Klein', 'Seattle']\n",
      "['16', 'Isaac Bridges', 'Philadelphia']\n",
      "['17', 'Martin Adkins', 'Chicago']\n",
      "['18', 'Vincent Perry', 'Detroit']\n",
      "['19', 'William Porter', 'Fort Worth']\n",
      "['20', 'Domingo Byrd', 'Charlotte']\n",
      "['21', 'Leslie Torres', 'San Francisco']\n",
      "['22', 'Wanda Morrison', 'El Paso']\n",
      "['23', 'Gwen Caldwell', 'Indianapolis']\n",
      "['24', 'Tammy Daniels', 'Indianapolis']\n",
      "['25', 'Claude Gilbert', 'Phoenix']\n",
      "['26', 'Monique Bowers', 'Seattle']\n",
      "['27', 'Virginia Phillips', 'San Francisco']\n",
      "['28', 'Norman Graham', 'Columbus']\n",
      "['29', 'Gerard Fleming', 'San Jose']\n",
      "['30', 'Miranda Conner', 'Washington']\n",
      "['31', 'Alicia Mcdaniel', 'Indianapolis']\n",
      "['32', 'Miriam Erickson', 'Dallas']\n",
      "['33', 'Tyrone Hughes', 'Houston']\n",
      "['34', 'Peter Terry', 'Phoenix']\n",
      "['35', 'Julie Boone', 'Jacksonville']\n",
      "['36', 'Josephine Sherman', 'Boston']\n",
      "['37', 'Bridget Stevenson', 'Dallas']\n",
      "['38', 'Dave Thomas', 'San Antonio']\n",
      "['39', 'Francisco Holland', 'Indianapolis']\n",
      "['40', 'Garrett Hogan', 'Phoenix']\n",
      "['41', 'Verna Abbott', 'El Paso']\n",
      "['42', 'Mona Rios', 'Portland']\n",
      "['43', 'Tara Glover', 'Dallas']\n",
      "['44', 'Levi Arnold', 'Denver']\n",
      "['45', 'Jasmine Gutierrez', 'San Jose']\n",
      "['46', 'Abraham Ortega', 'San Francisco']\n",
      "['47', 'Heidi Ellis', 'Columbus']\n",
      "['48', 'Nathaniel Morales', 'Washington']\n",
      "['49', 'Stephen Harvey', 'Phoenix']\n",
      "['50', 'Kimberly Jordan', 'El Paso']\n",
      "['51', 'Jessie Carson', 'Nashville-Davidson']\n",
      "['52', 'Juan West', 'Phoenix']\n",
      "['53', 'Ernestine Cummings', 'Columbus']\n",
      "['54', 'Oscar Wolfe', 'San Antonio']\n",
      "['55', 'Evan Smith', 'San Antonio']\n",
      "['56', 'Regina Garrett', 'Seattle']\n",
      "['57', 'Daisy Dixon', 'Detroit']\n",
      "['58', 'Warren Cross', 'Jacksonville']\n",
      "['59', 'Inez Mcgee', 'San Francisco']\n",
      "['60', 'Ellis Pena', 'Philadelphia']\n",
      "['61', 'Lois Parker', 'Fort Worth']\n",
      "['62', 'Charlene King', 'Portland']\n",
      "['63', 'Olga Luna', 'Oklahoma City']\n",
      "['64', 'Maria Jenkins', 'Nashville-Davidson']\n",
      "['65', 'Phyllis Scott', 'Washington']\n",
      "['66', 'Sean Palmer', 'Detroit']\n",
      "['67', 'Carroll Weber', 'Oklahoma City']\n",
      "['68', 'Dorothy Hudson', 'Nashville-Davidson']\n",
      "['69', 'Maurice Chandler', 'Boston']\n",
      "['70', 'Lloyd Cruz', 'Seattle']\n",
      "['71', 'Christian Stanley', 'San Francisco']\n",
      "['72', 'Emma Carter', 'San Diego']\n",
      "['73', 'Oliver Figueroa', 'Austin']\n",
      "['74', 'Bessie Kelly', 'Philadelphia']\n",
      "['75', 'Malcolm Nelson', 'Boston']\n",
      "['76', 'Rick Gibson', 'Houston']\n",
      "['77', 'Geraldine Mendez', 'Jacksonville']\n",
      "['78', 'Sharon Weaver', 'Denver']\n",
      "['79', 'Jerry Cox', 'Indianapolis']\n",
      "['80', 'Ray Bowman', 'Philadelphia']\n",
      "['81', 'Samantha Myers', 'Austin']\n",
      "['82', 'Jesus Pierce', 'Oklahoma City']\n",
      "['83', 'Pearl Jacobs', 'Phoenix']\n",
      "['84', 'Clara Barnett', 'Los Angeles']\n",
      "['85', 'Ronald Shaw', 'Columbus']\n",
      "['86', 'Christine Quinn', 'Jacksonville']\n",
      "['87', 'Alton Elliott', 'Philadelphia']\n",
      "['88', 'Krystal Moreno', 'San Jose']\n",
      "['89', 'Rhonda Owens', 'Seattle']\n",
      "['90', 'Katie Robbins', 'Phoenix']\n",
      "['91', 'Jeremy Chapman', 'Portland']\n",
      "['92', 'Douglas Young', 'New York']\n",
      "['93', 'Kate Mcbride', 'Chicago']\n",
      "['94', 'Jackie Mckenzie', 'Washington']\n",
      "['95', 'Debbie Keller', 'Jacksonville']\n",
      "['96', 'Pam Casey', 'Las Vegas']\n",
      "['97', 'Emily Coleman', 'Portland']\n",
      "['98', 'Terence Ross', 'Detroit']\n",
      "['99', 'Lorene Peterson', 'San Francisco']\n",
      "['100', 'Jaskaran Singh', 'Toronto']\n",
      "['130', 'Alica Bing', 'New York']\n",
      "['131', 'Malinda Bing', 'Detroit']\n",
      "['132', 'Chandler Bing', 'Portland']\n"
     ]
    }
   ],
   "source": [
    "for row in final_df.collect():\n",
    "    print(list(row))"
   ]
  },
  {
   "cell_type": "code",
   "execution_count": 102,
   "id": "2a5173eb",
   "metadata": {},
   "outputs": [],
   "source": [
    "final_df.write.mode('overwrite').csv('./finalOutput/finalFile2.csv')"
   ]
  }
 ],
 "metadata": {
  "kernelspec": {
   "display_name": "Python 3 (ipykernel)",
   "language": "python",
   "name": "python3"
  },
  "language_info": {
   "codemirror_mode": {
    "name": "ipython",
    "version": 3
   },
   "file_extension": ".py",
   "mimetype": "text/x-python",
   "name": "python",
   "nbconvert_exporter": "python",
   "pygments_lexer": "ipython3",
   "version": "3.9.12"
  }
 },
 "nbformat": 4,
 "nbformat_minor": 5
}
