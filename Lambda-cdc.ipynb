{
 "cells": [
  {
   "cell_type": "code",
   "execution_count": null,
   "id": "efcc70b0",
   "metadata": {},
   "outputs": [],
   "source": [
    "import json\n",
    "import boto3\n",
    "\n",
    "def lambda_handler(event, context):\n",
    "    # TODO implement\n",
    "  \n",
    "    bucketName = event[\"Records\"][0][\"s3\"][\"bucket\"][\"name\"]\n",
    "    fileName = event[\"Records\"][0][\"s3\"][\"object\"][\"key\"]\n",
    "    \n",
    "    glue = boto3.client('glue')\n",
    "    \n",
    "    response = glue.start_job_run(\n",
    "        JobName = 'glue-CDC-pyspark',\n",
    "        Arguments = {\n",
    "            '--s3_target_path_key': fileName,\n",
    "            '--s3_target_path_bucket': bucketName\n",
    "        } \n",
    "    )\n",
    "        \n",
    "    return {\n",
    "        'statusCode': 200,\n",
    "        'body': json.dumps('Hello from Lambda!')\n",
    "    }\n"
   ]
  }
 ],
 "metadata": {
  "kernelspec": {
   "display_name": "Python 3 (ipykernel)",
   "language": "python",
   "name": "python3"
  },
  "language_info": {
   "codemirror_mode": {
    "name": "ipython",
    "version": 3
   },
   "file_extension": ".py",
   "mimetype": "text/x-python",
   "name": "python",
   "nbconvert_exporter": "python",
   "pygments_lexer": "ipython3",
   "version": "3.9.12"
  }
 },
 "nbformat": 4,
 "nbformat_minor": 5
}
