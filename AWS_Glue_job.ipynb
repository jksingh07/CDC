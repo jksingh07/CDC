{
 "cells": [
  {
   "cell_type": "code",
   "execution_count": null,
   "id": "0891761f",
   "metadata": {},
   "outputs": [],
   "source": [
    "from awsglue.utils import getResolvedOptions\n",
    "import sys\n",
    "from pyspark.sql.functions import when\n",
    "from pyspark.sql import SparkSession\n",
    "\n",
    "args = getResolvedOptions(sys.argv,['s3_target_path_key','s3_target_path_bucket'])\n",
    "bucket = args['s3_target_path_bucket']\n",
    "fileName = args['s3_target_path_key']\n",
    "\n",
    "print(bucket, fileName)\n",
    "\n",
    "spark = SparkSession.builder.appName(\"CDC\").getOrCreate()\n",
    "source_file_path = f\"s3://{bucket}/{fileName}\"\n",
    "destination_file_path = f\"s3://cdc-s3-output-pyspark/output\"\n",
    "\n",
    "if \"LOAD\" in fileName:\n",
    "    full_load_df = spark.read.csv(source_file_path)\n",
    "    full_load_df = full_load_df.withColumnRenamed(\"_c0\",\"id\").withColumnRenamed(\"_c1\",\"FullName\").withColumnRenamed(\"_c2\",\"City\")\n",
    "    full_load_df.write.mode(\"overwrite\").csv(destination_file_path)\n",
    "else:\n",
    "    updated_df = spark.read.csv(source_file_path)\n",
    "    updated_df = updated_df.withColumnRenamed(\"_c0\",\"action\").withColumnRenamed(\"_c1\",\"id\").withColumnRenamed(\"_c2\",\"FullName\").withColumnRenamed(\"_c3\",\"City\")\n",
    "    final_df = spark.read.csv(destination_file_path)\n",
    "    final_df = final_df.withColumnRenamed(\"_c0\",\"id\").withColumnRenamed(\"_c1\",\"FullName\").withColumnRenamed(\"_c2\",\"City\")\n",
    "    \n",
    "    for row in updated_df.collect(): \n",
    "      if row[\"action\"] == 'U':\n",
    "        final_df = final_df.withColumn(\"FullName\", when(final_df[\"id\"] == row[\"id\"], row[\"FullName\"]).otherwise(final_df[\"FullName\"]))      \n",
    "        final_df = final_df.withColumn(\"City\", when(final_df[\"id\"] == row[\"id\"], row[\"City\"]).otherwise(final_df[\"City\"]))\n",
    "    \n",
    "      if row[\"action\"] == 'I':\n",
    "        insertedRow = [list(row)[1:]]\n",
    "        columns = ['id', 'FullName', 'City']\n",
    "        newdf = spark.createDataFrame(insertedRow, columns)\n",
    "        final_df = final_df.union(newdf)\n",
    "    \n",
    "      if row[\"action\"] == 'D':\n",
    "        final_df = final_df.filter(final_df.id != row[\"id\"])\n",
    "        \n",
    "    final_df.write.mode(\"overwrite\").csv(destination_file_path)   \n"
   ]
  }
 ],
 "metadata": {
  "kernelspec": {
   "display_name": "Python 3 (ipykernel)",
   "language": "python",
   "name": "python3"
  },
  "language_info": {
   "codemirror_mode": {
    "name": "ipython",
    "version": 3
   },
   "file_extension": ".py",
   "mimetype": "text/x-python",
   "name": "python",
   "nbconvert_exporter": "python",
   "pygments_lexer": "ipython3",
   "version": "3.9.12"
  }
 },
 "nbformat": 4,
 "nbformat_minor": 5
}
